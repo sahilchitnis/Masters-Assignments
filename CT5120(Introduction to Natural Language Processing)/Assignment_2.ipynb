{
 "cells": [
  {
   "cell_type": "markdown",
   "metadata": {
    "id": "aaUofWx__v9g"
   },
   "source": [
    "### Introduction to Natural Language Processing\n",
    "##### Student Name:- Sahil Chitnis\n",
    "##### Class:- MSc Data Analytics\n",
    "##### Student ID:-  23100637"
   ]
  },
  {
   "cell_type": "code",
   "execution_count": 1,
   "metadata": {
    "colab": {
     "base_uri": "https://localhost:8080/"
    },
    "execution": {
     "iopub.execute_input": "2023-12-20T14:59:41.212162Z",
     "iopub.status.busy": "2023-12-20T14:59:41.211695Z",
     "iopub.status.idle": "2023-12-20T14:59:52.259221Z",
     "shell.execute_reply": "2023-12-20T14:59:52.258268Z",
     "shell.execute_reply.started": "2023-12-20T14:59:41.212116Z"
    },
    "id": "F_8OI7rchgXo",
    "outputId": "5d699094-1e6d-4d15-9a52-4d4ec3c91f19"
   },
   "outputs": [
    {
     "name": "stdout",
     "output_type": "stream",
     "text": [
      "Collecting datasets\n",
      "  Downloading datasets-2.15.0-py3-none-any.whl (521 kB)\n",
      "\u001b[2K     \u001b[90m━━━━━━━━━━━━━━━━━━━━━━━━━━━━━━━━━━━━━━━\u001b[0m \u001b[32m521.2/521.2 kB\u001b[0m \u001b[31m9.2 MB/s\u001b[0m eta \u001b[36m0:00:00\u001b[0ma \u001b[36m0:00:01\u001b[0m\n",
      "\u001b[?25hCollecting fsspec[http]<=2023.10.0,>=2023.1.0\n",
      "  Downloading fsspec-2023.10.0-py3-none-any.whl (166 kB)\n",
      "\u001b[2K     \u001b[90m━━━━━━━━━━━━━━━━━━━━━━━━━━━━━━━━━━━━━━\u001b[0m \u001b[32m166.4/166.4 kB\u001b[0m \u001b[31m13.6 MB/s\u001b[0m eta \u001b[36m0:00:00\u001b[0m\n",
      "\u001b[?25hRequirement already satisfied: dill<0.3.8,>=0.3.0 in /usr/local/lib/python3.10/site-packages (from datasets) (0.3.7)\n",
      "Collecting pyarrow>=8.0.0\n",
      "  Downloading pyarrow-14.0.2-cp310-cp310-manylinux_2_28_x86_64.whl (38.0 MB)\n",
      "\u001b[2K     \u001b[90m━━━━━━━━━━━━━━━━━━━━━━━━━━━━━━━━━━━━━━━━\u001b[0m \u001b[32m38.0/38.0 MB\u001b[0m \u001b[31m25.9 MB/s\u001b[0m eta \u001b[36m0:00:00\u001b[0m00:01\u001b[0m00:01\u001b[0m\n",
      "\u001b[?25hCollecting aiohttp\n",
      "  Downloading aiohttp-3.9.1-cp310-cp310-manylinux_2_17_x86_64.manylinux2014_x86_64.whl (1.2 MB)\n",
      "\u001b[2K     \u001b[90m━━━━━━━━━━━━━━━━━━━━━━━━━━━━━━━━━━━━━━━━\u001b[0m \u001b[32m1.2/1.2 MB\u001b[0m \u001b[31m38.5 MB/s\u001b[0m eta \u001b[36m0:00:00\u001b[0m\n",
      "\u001b[?25hRequirement already satisfied: requests>=2.19.0 in /usr/local/lib/python3.10/site-packages (from datasets) (2.31.0)\n",
      "Collecting pyarrow-hotfix\n",
      "  Downloading pyarrow_hotfix-0.6-py3-none-any.whl (7.9 kB)\n",
      "Requirement already satisfied: pandas in /usr/local/lib/python3.10/site-packages (from datasets) (2.1.4)\n",
      "Requirement already satisfied: tqdm>=4.62.1 in /usr/local/lib/python3.10/site-packages (from datasets) (4.66.1)\n",
      "Requirement already satisfied: packaging in /usr/local/lib/python3.10/site-packages (from datasets) (23.2)\n",
      "Requirement already satisfied: pyyaml>=5.1 in /usr/local/lib/python3.10/site-packages (from datasets) (6.0.1)\n",
      "Collecting xxhash\n",
      "  Downloading xxhash-3.4.1-cp310-cp310-manylinux_2_17_x86_64.manylinux2014_x86_64.whl (194 kB)\n",
      "\u001b[2K     \u001b[90m━━━━━━━━━━━━━━━━━━━━━━━━━━━━━━━━━━━━━━\u001b[0m \u001b[32m194.1/194.1 kB\u001b[0m \u001b[31m10.2 MB/s\u001b[0m eta \u001b[36m0:00:00\u001b[0m\n",
      "\u001b[?25hCollecting multiprocess\n",
      "  Downloading multiprocess-0.70.15-py310-none-any.whl (134 kB)\n",
      "\u001b[2K     \u001b[90m━━━━━━━━━━━━━━━━━━━━━━━━━━━━━━━━━━━━━━\u001b[0m \u001b[32m134.8/134.8 kB\u001b[0m \u001b[31m11.1 MB/s\u001b[0m eta \u001b[36m0:00:00\u001b[0m\n",
      "\u001b[?25hRequirement already satisfied: huggingface-hub>=0.18.0 in /usr/local/lib/python3.10/site-packages (from datasets) (0.19.4)\n",
      "Requirement already satisfied: numpy>=1.17 in /usr/local/lib/python3.10/site-packages (from datasets) (1.26.2)\n",
      "Collecting frozenlist>=1.1.1\n",
      "  Downloading frozenlist-1.4.1-cp310-cp310-manylinux_2_5_x86_64.manylinux1_x86_64.manylinux_2_17_x86_64.manylinux2014_x86_64.whl (239 kB)\n",
      "\u001b[2K     \u001b[90m━━━━━━━━━━━━━━━━━━━━━━━━━━━━━━━━━━━━━━\u001b[0m \u001b[32m239.5/239.5 kB\u001b[0m \u001b[31m18.2 MB/s\u001b[0m eta \u001b[36m0:00:00\u001b[0m\n",
      "\u001b[?25hCollecting aiosignal>=1.1.2\n",
      "  Downloading aiosignal-1.3.1-py3-none-any.whl (7.6 kB)\n",
      "Collecting async-timeout<5.0,>=4.0\n",
      "  Downloading async_timeout-4.0.3-py3-none-any.whl (5.7 kB)\n",
      "Collecting yarl<2.0,>=1.0\n",
      "  Downloading yarl-1.9.4-cp310-cp310-manylinux_2_17_x86_64.manylinux2014_x86_64.whl (301 kB)\n",
      "\u001b[2K     \u001b[90m━━━━━━━━━━━━━━━━━━━━━━━━━━━━━━━━━━━━━━\u001b[0m \u001b[32m301.6/301.6 kB\u001b[0m \u001b[31m22.7 MB/s\u001b[0m eta \u001b[36m0:00:00\u001b[0m\n",
      "\u001b[?25hRequirement already satisfied: attrs>=17.3.0 in /usr/local/lib/python3.10/site-packages (from aiohttp->datasets) (23.1.0)\n",
      "Collecting multidict<7.0,>=4.5\n",
      "  Downloading multidict-6.0.4-cp310-cp310-manylinux_2_17_x86_64.manylinux2014_x86_64.whl (114 kB)\n",
      "\u001b[2K     \u001b[90m━━━━━━━━━━━━━━━━━━━━━━━━━━━━━━━━━━━━━━━\u001b[0m \u001b[32m114.5/114.5 kB\u001b[0m \u001b[31m7.2 MB/s\u001b[0m eta \u001b[36m0:00:00\u001b[0m\n",
      "\u001b[?25hRequirement already satisfied: filelock in /usr/local/lib/python3.10/site-packages (from huggingface-hub>=0.18.0->datasets) (3.13.1)\n",
      "Requirement already satisfied: typing-extensions>=3.7.4.3 in /usr/local/lib/python3.10/site-packages (from huggingface-hub>=0.18.0->datasets) (4.9.0)\n",
      "Requirement already satisfied: charset-normalizer<4,>=2 in /usr/local/lib/python3.10/site-packages (from requests>=2.19.0->datasets) (3.3.2)\n",
      "Requirement already satisfied: certifi>=2017.4.17 in /usr/local/lib/python3.10/site-packages (from requests>=2.19.0->datasets) (2023.11.17)\n",
      "Requirement already satisfied: idna<4,>=2.5 in /usr/local/lib/python3.10/site-packages (from requests>=2.19.0->datasets) (3.6)\n",
      "Requirement already satisfied: urllib3<3,>=1.21.1 in /usr/local/lib/python3.10/site-packages (from requests>=2.19.0->datasets) (2.1.0)\n",
      "Requirement already satisfied: tzdata>=2022.1 in /usr/local/lib/python3.10/site-packages (from pandas->datasets) (2023.3)\n",
      "Requirement already satisfied: pytz>=2020.1 in /usr/local/lib/python3.10/site-packages (from pandas->datasets) (2023.3.post1)\n",
      "Requirement already satisfied: python-dateutil>=2.8.2 in /usr/local/lib/python3.10/site-packages (from pandas->datasets) (2.8.2)\n",
      "Requirement already satisfied: six>=1.5 in /usr/local/lib/python3.10/site-packages (from python-dateutil>=2.8.2->pandas->datasets) (1.16.0)\n",
      "Installing collected packages: xxhash, pyarrow-hotfix, pyarrow, multiprocess, multidict, fsspec, frozenlist, async-timeout, yarl, aiosignal, aiohttp, datasets\n",
      "  Attempting uninstall: fsspec\n",
      "    Found existing installation: fsspec 2023.12.2\n",
      "    Uninstalling fsspec-2023.12.2:\n",
      "      Successfully uninstalled fsspec-2023.12.2\n",
      "Successfully installed aiohttp-3.9.1 aiosignal-1.3.1 async-timeout-4.0.3 datasets-2.15.0 frozenlist-1.4.1 fsspec-2023.10.0 multidict-6.0.4 multiprocess-0.70.15 pyarrow-14.0.2 pyarrow-hotfix-0.6 xxhash-3.4.1 yarl-1.9.4\n",
      "\u001b[33mWARNING: Running pip as the 'root' user can result in broken permissions and conflicting behaviour with the system package manager. It is recommended to use a virtual environment instead: https://pip.pypa.io/warnings/venv\u001b[0m\u001b[33m\n",
      "\u001b[0m\n",
      "\u001b[1m[\u001b[0m\u001b[34;49mnotice\u001b[0m\u001b[1;39;49m]\u001b[0m\u001b[39;49m A new release of pip is available: \u001b[0m\u001b[31;49m23.0.1\u001b[0m\u001b[39;49m -> \u001b[0m\u001b[32;49m23.3.2\u001b[0m\n",
      "\u001b[1m[\u001b[0m\u001b[34;49mnotice\u001b[0m\u001b[1;39;49m]\u001b[0m\u001b[39;49m To update, run: \u001b[0m\u001b[32;49mpip install --upgrade pip\u001b[0m\n"
     ]
    }
   ],
   "source": [
    "!pip install datasets"
   ]
  },
  {
   "cell_type": "code",
   "execution_count": 3,
   "metadata": {
    "execution": {
     "iopub.execute_input": "2023-12-20T14:59:56.571256Z",
     "iopub.status.busy": "2023-12-20T14:59:56.571008Z",
     "iopub.status.idle": "2023-12-20T15:00:00.209989Z",
     "shell.execute_reply": "2023-12-20T15:00:00.209263Z",
     "shell.execute_reply.started": "2023-12-20T14:59:56.571229Z"
    },
    "id": "NgdANTD4_qIs"
   },
   "outputs": [
    {
     "name": "stderr",
     "output_type": "stream",
     "text": [
      "/usr/local/lib/python3.10/site-packages/tqdm/auto.py:21: TqdmWarning: IProgress not found. Please update jupyter and ipywidgets. See https://ipywidgets.readthedocs.io/en/stable/user_install.html\n",
      "  from .autonotebook import tqdm as notebook_tqdm\n"
     ]
    }
   ],
   "source": [
    "import numpy as np\n",
    "import pandas as pd\n",
    "import matplotlib.pyplot as plt\n",
    "import sklearn\n",
    "from nltk.corpus import stopwords\n",
    "from nltk.tokenize import TreebankWordTokenizer, TreebankWordDetokenizer\n",
    "import string\n",
    "from datasets import load_dataset\n",
    "import re\n",
    "from sklearn.model_selection import train_test_split\n",
    "from sklearn.feature_extraction.text import TfidfVectorizer\n",
    "from sklearn.metrics import classification_report\n",
    "from sklearn.ensemble import RandomForestClassifier,GradientBoostingClassifier\n",
    "from sklearn.svm import SVC\n",
    "from sklearn.preprocessing import LabelEncoder\n",
    "from sklearn.naive_bayes import MultinomialNB\n",
    "from sklearn.linear_model import LogisticRegression\n",
    "from sklearn.model_selection import RandomizedSearchCV,GridSearchCV\n",
    "import warnings\n",
    "warnings.filterwarnings('ignore')"
   ]
  },
  {
   "cell_type": "code",
   "execution_count": 2,
   "metadata": {
    "execution": {
     "iopub.execute_input": "2023-12-20T14:59:52.261211Z",
     "iopub.status.busy": "2023-12-20T14:59:52.260929Z",
     "iopub.status.idle": "2023-12-20T14:59:56.569821Z",
     "shell.execute_reply": "2023-12-20T14:59:56.569002Z",
     "shell.execute_reply.started": "2023-12-20T14:59:52.261181Z"
    }
   },
   "outputs": [
    {
     "name": "stdout",
     "output_type": "stream",
     "text": [
      "Collecting nltk\n",
      "  Downloading nltk-3.8.1-py3-none-any.whl (1.5 MB)\n",
      "\u001b[2K     \u001b[90m━━━━━━━━━━━━━━━━━━━━━━━━━━━━━━━━━━━━━━━━\u001b[0m \u001b[32m1.5/1.5 MB\u001b[0m \u001b[31m17.7 MB/s\u001b[0m eta \u001b[36m0:00:00\u001b[0m00:01\u001b[0m0:01\u001b[0m\n",
      "\u001b[?25hRequirement already satisfied: tqdm in /usr/local/lib/python3.10/site-packages (from nltk) (4.66.1)\n",
      "Requirement already satisfied: regex>=2021.8.3 in /usr/local/lib/python3.10/site-packages (from nltk) (2023.10.3)\n",
      "Requirement already satisfied: joblib in /usr/local/lib/python3.10/site-packages (from nltk) (1.3.2)\n",
      "Requirement already satisfied: click in /usr/local/lib/python3.10/site-packages (from nltk) (8.1.7)\n",
      "Installing collected packages: nltk\n",
      "\u001b[33m  WARNING: The script nltk is installed in '/root/.local/bin' which is not on PATH.\n",
      "  Consider adding this directory to PATH or, if you prefer to suppress this warning, use --no-warn-script-location.\u001b[0m\u001b[33m\n",
      "\u001b[0mSuccessfully installed nltk-3.8.1\n",
      "\u001b[33mWARNING: Running pip as the 'root' user can result in broken permissions and conflicting behaviour with the system package manager. It is recommended to use a virtual environment instead: https://pip.pypa.io/warnings/venv\u001b[0m\u001b[33m\n",
      "\u001b[0m\n",
      "\u001b[1m[\u001b[0m\u001b[34;49mnotice\u001b[0m\u001b[1;39;49m]\u001b[0m\u001b[39;49m A new release of pip is available: \u001b[0m\u001b[31;49m23.0.1\u001b[0m\u001b[39;49m -> \u001b[0m\u001b[32;49m23.3.2\u001b[0m\n",
      "\u001b[1m[\u001b[0m\u001b[34;49mnotice\u001b[0m\u001b[1;39;49m]\u001b[0m\u001b[39;49m To update, run: \u001b[0m\u001b[32;49mpip install --upgrade pip\u001b[0m\n",
      "Note: you may need to restart the kernel to use updated packages.\n"
     ]
    }
   ],
   "source": [
    "pip install --user -U nltk"
   ]
  },
  {
   "cell_type": "code",
   "execution_count": 4,
   "metadata": {
    "colab": {
     "base_uri": "https://localhost:8080/"
    },
    "execution": {
     "iopub.execute_input": "2023-12-20T15:00:00.211823Z",
     "iopub.status.busy": "2023-12-20T15:00:00.211460Z",
     "iopub.status.idle": "2023-12-20T15:00:00.655924Z",
     "shell.execute_reply": "2023-12-20T15:00:00.655091Z",
     "shell.execute_reply.started": "2023-12-20T15:00:00.211796Z"
    },
    "id": "uWmyWQH6EdS9",
    "outputId": "649d28bd-f505-4ed3-e92f-c09155683d91"
   },
   "outputs": [
    {
     "name": "stderr",
     "output_type": "stream",
     "text": [
      "[nltk_data] Downloading package treebank to /root/nltk_data...\n",
      "[nltk_data]   Unzipping corpora/treebank.zip.\n",
      "[nltk_data] Downloading package stopwords to /root/nltk_data...\n",
      "[nltk_data]   Unzipping corpora/stopwords.zip.\n"
     ]
    },
    {
     "data": {
      "text/plain": [
       "True"
      ]
     },
     "execution_count": 4,
     "metadata": {},
     "output_type": "execute_result"
    }
   ],
   "source": [
    "import nltk\n",
    "nltk.download('treebank')\n",
    "nltk.download('stopwords')"
   ]
  },
  {
   "cell_type": "code",
   "execution_count": 5,
   "metadata": {
    "execution": {
     "iopub.execute_input": "2023-12-20T15:00:00.657181Z",
     "iopub.status.busy": "2023-12-20T15:00:00.656911Z",
     "iopub.status.idle": "2023-12-20T15:00:00.801749Z",
     "shell.execute_reply": "2023-12-20T15:00:00.800857Z",
     "shell.execute_reply.started": "2023-12-20T15:00:00.657155Z"
    },
    "id": "__W39VEW_0f5"
   },
   "outputs": [],
   "source": [
    "Twitter_dataset_df_train=pd.read_csv(r'/kaggle/input/all-dataset/train.csv')\n",
    "Twitter_dataset_df_dev=pd.read_csv(r'/kaggle/input/all-dataset/dev.csv')\n",
    "Twitter_dataset_df_test=pd.read_csv(r'/kaggle/input/all-dataset/test.csv')"
   ]
  },
  {
   "cell_type": "code",
   "execution_count": 6,
   "metadata": {
    "execution": {
     "iopub.execute_input": "2023-12-20T15:00:00.803407Z",
     "iopub.status.busy": "2023-12-20T15:00:00.803061Z",
     "iopub.status.idle": "2023-12-20T15:00:00.807670Z",
     "shell.execute_reply": "2023-12-20T15:00:00.806869Z",
     "shell.execute_reply.started": "2023-12-20T15:00:00.803373Z"
    },
    "id": "gOzBNlaTATbE"
   },
   "outputs": [],
   "source": [
    "Twitter_dataset_df_train=pd.DataFrame(Twitter_dataset_df_train)\n",
    "Twitter_dataset_df_dev=pd.DataFrame(Twitter_dataset_df_dev)\n",
    "Twitter_dataset_df_test=pd.DataFrame(Twitter_dataset_df_test)"
   ]
  },
  {
   "cell_type": "code",
   "execution_count": 7,
   "metadata": {
    "colab": {
     "base_uri": "https://localhost:8080/",
     "height": 206
    },
    "execution": {
     "iopub.execute_input": "2023-12-20T15:00:00.809097Z",
     "iopub.status.busy": "2023-12-20T15:00:00.808809Z",
     "iopub.status.idle": "2023-12-20T15:00:00.827900Z",
     "shell.execute_reply": "2023-12-20T15:00:00.827136Z",
     "shell.execute_reply.started": "2023-12-20T15:00:00.809069Z"
    },
    "id": "CvWTbt9HAVZT",
    "outputId": "250b1af2-31e3-4dd3-cf79-f2629d10dd28"
   },
   "outputs": [
    {
     "data": {
      "text/html": [
       "<div>\n",
       "<style scoped>\n",
       "    .dataframe tbody tr th:only-of-type {\n",
       "        vertical-align: middle;\n",
       "    }\n",
       "\n",
       "    .dataframe tbody tr th {\n",
       "        vertical-align: top;\n",
       "    }\n",
       "\n",
       "    .dataframe thead th {\n",
       "        text-align: right;\n",
       "    }\n",
       "</style>\n",
       "<table border=\"1\" class=\"dataframe\">\n",
       "  <thead>\n",
       "    <tr style=\"text-align: right;\">\n",
       "      <th></th>\n",
       "      <th>textID</th>\n",
       "      <th>text</th>\n",
       "      <th>selected_text</th>\n",
       "      <th>sentiment</th>\n",
       "    </tr>\n",
       "  </thead>\n",
       "  <tbody>\n",
       "    <tr>\n",
       "      <th>0</th>\n",
       "      <td>4921fcb7c4</td>\n",
       "      <td>absolutely gutted that i`m not going to badu t...</td>\n",
       "      <td>absolutely gutted that i`m not going to badu t...</td>\n",
       "      <td>negative</td>\n",
       "    </tr>\n",
       "    <tr>\n",
       "      <th>1</th>\n",
       "      <td>4137a2ac20</td>\n",
       "      <td>It is absolutely incredible. It`s official: M...</td>\n",
       "      <td>incredible.</td>\n",
       "      <td>positive</td>\n",
       "    </tr>\n",
       "    <tr>\n",
       "      <th>2</th>\n",
       "      <td>511d2b0355</td>\n",
       "      <td>I see</td>\n",
       "      <td>I see</td>\n",
       "      <td>neutral</td>\n",
       "    </tr>\n",
       "    <tr>\n",
       "      <th>3</th>\n",
       "      <td>fbd2944d44</td>\n",
       "      <td>Glad to hear you`re okay. Could have really h...</td>\n",
       "      <td>Glad to hear you`re okay. Could have really hu...</td>\n",
       "      <td>neutral</td>\n",
       "    </tr>\n",
       "    <tr>\n",
       "      <th>4</th>\n",
       "      <td>dd51596098</td>\n",
       "      <td>i saw a piece of that movie...loved it</td>\n",
       "      <td>..loved it</td>\n",
       "      <td>positive</td>\n",
       "    </tr>\n",
       "  </tbody>\n",
       "</table>\n",
       "</div>"
      ],
      "text/plain": [
       "       textID                                               text  \\\n",
       "0  4921fcb7c4  absolutely gutted that i`m not going to badu t...   \n",
       "1  4137a2ac20   It is absolutely incredible. It`s official: M...   \n",
       "2  511d2b0355                                             I see    \n",
       "3  fbd2944d44   Glad to hear you`re okay. Could have really h...   \n",
       "4  dd51596098             i saw a piece of that movie...loved it   \n",
       "\n",
       "                                       selected_text sentiment  \n",
       "0  absolutely gutted that i`m not going to badu t...  negative  \n",
       "1                                        incredible.  positive  \n",
       "2                                              I see   neutral  \n",
       "3  Glad to hear you`re okay. Could have really hu...   neutral  \n",
       "4                                         ..loved it  positive  "
      ]
     },
     "execution_count": 7,
     "metadata": {},
     "output_type": "execute_result"
    }
   ],
   "source": [
    "Twitter_dataset_df_train.head()"
   ]
  },
  {
   "cell_type": "code",
   "execution_count": 9,
   "metadata": {
    "colab": {
     "base_uri": "https://localhost:8080/",
     "height": 206
    },
    "execution": {
     "iopub.execute_input": "2023-12-20T15:03:11.569535Z",
     "iopub.status.busy": "2023-12-20T15:03:11.569098Z",
     "iopub.status.idle": "2023-12-20T15:03:11.578915Z",
     "shell.execute_reply": "2023-12-20T15:03:11.578086Z",
     "shell.execute_reply.started": "2023-12-20T15:03:11.569498Z"
    },
    "id": "vaHMsaqFAWrl",
    "outputId": "1c4f1308-aab0-4c8b-880f-014287d84207"
   },
   "outputs": [
    {
     "data": {
      "text/html": [
       "<div>\n",
       "<style scoped>\n",
       "    .dataframe tbody tr th:only-of-type {\n",
       "        vertical-align: middle;\n",
       "    }\n",
       "\n",
       "    .dataframe tbody tr th {\n",
       "        vertical-align: top;\n",
       "    }\n",
       "\n",
       "    .dataframe thead th {\n",
       "        text-align: right;\n",
       "    }\n",
       "</style>\n",
       "<table border=\"1\" class=\"dataframe\">\n",
       "  <thead>\n",
       "    <tr style=\"text-align: right;\">\n",
       "      <th></th>\n",
       "      <th>textID</th>\n",
       "      <th>text</th>\n",
       "      <th>selected_text</th>\n",
       "    </tr>\n",
       "  </thead>\n",
       "  <tbody>\n",
       "    <tr>\n",
       "      <th>0</th>\n",
       "      <td>1ecb27d443</td>\n",
       "      <td>Packing up my desk</td>\n",
       "      <td>Packing up my desk</td>\n",
       "    </tr>\n",
       "    <tr>\n",
       "      <th>1</th>\n",
       "      <td>8def14ecb6</td>\n",
       "      <td>wakey wakey lemon shakeyyyy!  haha, goin` 2 sc...</td>\n",
       "      <td>I WISH</td>\n",
       "    </tr>\n",
       "    <tr>\n",
       "      <th>2</th>\n",
       "      <td>d8ab6dfc33</td>\n",
       "      <td>doin fine relaxin at work... Hardly working</td>\n",
       "      <td>Hardly working</td>\n",
       "    </tr>\n",
       "    <tr>\n",
       "      <th>3</th>\n",
       "      <td>a40a9840b0</td>\n",
       "      <td>Cant fall asleep.</td>\n",
       "      <td>Cant fall asleep.</td>\n",
       "    </tr>\n",
       "    <tr>\n",
       "      <th>4</th>\n",
       "      <td>9fd06d16fa</td>\n",
       "      <td>Day off with nothing to do</td>\n",
       "      <td>Day off with nothing to do</td>\n",
       "    </tr>\n",
       "  </tbody>\n",
       "</table>\n",
       "</div>"
      ],
      "text/plain": [
       "       textID                                               text  \\\n",
       "0  1ecb27d443                                 Packing up my desk   \n",
       "1  8def14ecb6  wakey wakey lemon shakeyyyy!  haha, goin` 2 sc...   \n",
       "2  d8ab6dfc33        doin fine relaxin at work... Hardly working   \n",
       "3  a40a9840b0                                  Cant fall asleep.   \n",
       "4  9fd06d16fa                         Day off with nothing to do   \n",
       "\n",
       "                selected_text  \n",
       "0          Packing up my desk  \n",
       "1                      I WISH  \n",
       "2              Hardly working  \n",
       "3           Cant fall asleep.  \n",
       "4  Day off with nothing to do  "
      ]
     },
     "execution_count": 9,
     "metadata": {},
     "output_type": "execute_result"
    }
   ],
   "source": [
    "Twitter_dataset_df_test.head()"
   ]
  },
  {
   "cell_type": "code",
   "execution_count": 10,
   "metadata": {
    "colab": {
     "base_uri": "https://localhost:8080/",
     "height": 206
    },
    "execution": {
     "iopub.execute_input": "2023-12-20T15:03:12.136986Z",
     "iopub.status.busy": "2023-12-20T15:03:12.136599Z",
     "iopub.status.idle": "2023-12-20T15:03:12.146647Z",
     "shell.execute_reply": "2023-12-20T15:03:12.145938Z",
     "shell.execute_reply.started": "2023-12-20T15:03:12.136953Z"
    },
    "id": "LAkp7pWYAYRw",
    "outputId": "d6f542e5-141f-4627-bbd0-d04e55c48cfc"
   },
   "outputs": [
    {
     "data": {
      "text/html": [
       "<div>\n",
       "<style scoped>\n",
       "    .dataframe tbody tr th:only-of-type {\n",
       "        vertical-align: middle;\n",
       "    }\n",
       "\n",
       "    .dataframe tbody tr th {\n",
       "        vertical-align: top;\n",
       "    }\n",
       "\n",
       "    .dataframe thead th {\n",
       "        text-align: right;\n",
       "    }\n",
       "</style>\n",
       "<table border=\"1\" class=\"dataframe\">\n",
       "  <thead>\n",
       "    <tr style=\"text-align: right;\">\n",
       "      <th></th>\n",
       "      <th>textID</th>\n",
       "      <th>text</th>\n",
       "      <th>selected_text</th>\n",
       "      <th>sentiment</th>\n",
       "    </tr>\n",
       "  </thead>\n",
       "  <tbody>\n",
       "    <tr>\n",
       "      <th>0</th>\n",
       "      <td>a6fd34d3db</td>\n",
       "      <td>_Mean WHERE?</td>\n",
       "      <td>_Mean WHERE?</td>\n",
       "      <td>neutral</td>\n",
       "    </tr>\n",
       "    <tr>\n",
       "      <th>1</th>\n",
       "      <td>35e212c895</td>\n",
       "      <td>anytime..  Why ya gonna be up so late?</td>\n",
       "      <td>anytime..  Why ya gonna be up so late?</td>\n",
       "      <td>neutral</td>\n",
       "    </tr>\n",
       "    <tr>\n",
       "      <th>2</th>\n",
       "      <td>a962fad818</td>\n",
       "      <td>On the plane to yosemite. Forgot my laptop at ...</td>\n",
       "      <td>On the plane to yosemite. Forgot my laptop at ...</td>\n",
       "      <td>neutral</td>\n",
       "    </tr>\n",
       "    <tr>\n",
       "      <th>3</th>\n",
       "      <td>3521fb0d31</td>\n",
       "      <td>as long as you have someone to make out with...</td>\n",
       "      <td>as long as you have someone to make out with</td>\n",
       "      <td>neutral</td>\n",
       "    </tr>\n",
       "    <tr>\n",
       "      <th>4</th>\n",
       "      <td>2de1bcb225</td>\n",
       "      <td>07 !!! It`s bloody quick,, even my gran could...</td>\n",
       "      <td>It`s bloody quick,, even my gran could drift it</td>\n",
       "      <td>neutral</td>\n",
       "    </tr>\n",
       "  </tbody>\n",
       "</table>\n",
       "</div>"
      ],
      "text/plain": [
       "       textID                                               text  \\\n",
       "0  a6fd34d3db                                       _Mean WHERE?   \n",
       "1  35e212c895             anytime..  Why ya gonna be up so late?   \n",
       "2  a962fad818  On the plane to yosemite. Forgot my laptop at ...   \n",
       "3  3521fb0d31    as long as you have someone to make out with...   \n",
       "4  2de1bcb225   07 !!! It`s bloody quick,, even my gran could...   \n",
       "\n",
       "                                       selected_text sentiment  \n",
       "0                                       _Mean WHERE?   neutral  \n",
       "1             anytime..  Why ya gonna be up so late?   neutral  \n",
       "2  On the plane to yosemite. Forgot my laptop at ...   neutral  \n",
       "3       as long as you have someone to make out with   neutral  \n",
       "4    It`s bloody quick,, even my gran could drift it   neutral  "
      ]
     },
     "execution_count": 10,
     "metadata": {},
     "output_type": "execute_result"
    }
   ],
   "source": [
    "Twitter_dataset_df_dev.head()"
   ]
  },
  {
   "cell_type": "code",
   "execution_count": 11,
   "metadata": {
    "execution": {
     "iopub.execute_input": "2023-12-20T15:03:12.610287Z",
     "iopub.status.busy": "2023-12-20T15:03:12.609891Z",
     "iopub.status.idle": "2023-12-20T15:03:12.620317Z",
     "shell.execute_reply": "2023-12-20T15:03:12.619403Z",
     "shell.execute_reply.started": "2023-12-20T15:03:12.610252Z"
    },
    "id": "PVgGmeOLAZvM"
   },
   "outputs": [],
   "source": [
    "counts_for_train = Twitter_dataset_df_train.groupby('sentiment').size()\n",
    "counts_for_dev = Twitter_dataset_df_dev.groupby('sentiment').size()\n",
    "\n",
    "order = ['negative', 'positive', 'neutral']\n",
    "counts_for_train=counts_for_train.loc[order]\n",
    "counts_for_dev=counts_for_dev.loc[order]\n",
    "\n",
    "categories_train = counts_for_train.index\n",
    "categories_dev = counts_for_dev.index\n",
    "\n",
    "train_data = counts_for_train.values\n",
    "dev_data = counts_for_dev.values"
   ]
  },
  {
   "cell_type": "markdown",
   "metadata": {
    "id": "3-sN1z4VAczw"
   },
   "source": [
    "##Task 1a :- Plotting the graph\n"
   ]
  },
  {
   "cell_type": "code",
   "execution_count": 12,
   "metadata": {
    "colab": {
     "base_uri": "https://localhost:8080/",
     "height": 622
    },
    "execution": {
     "iopub.execute_input": "2023-12-20T15:03:13.436541Z",
     "iopub.status.busy": "2023-12-20T15:03:13.435599Z",
     "iopub.status.idle": "2023-12-20T15:03:13.634408Z",
     "shell.execute_reply": "2023-12-20T15:03:13.633601Z",
     "shell.execute_reply.started": "2023-12-20T15:03:13.436493Z"
    },
    "id": "mTYAmu3JAbGX",
    "outputId": "d54350fd-b3f7-4864-ba34-e63a003c8e13"
   },
   "outputs": [
    {
     "data": {
      "image/png": "[encoded data removed]",
      "text/plain": [
       "<Figure size 700x700 with 1 Axes>"
      ]
     },
     "metadata": {},
     "output_type": "display_data"
    }
   ],
   "source": [
    "position = list(range(len(train_data)))\n",
    "width = 0.30\n",
    "\n",
    "fig, ax = plt.subplots(figsize=(7,7))\n",
    "\n",
    "#using plt to visualize train data.\n",
    "train_bar=plt.bar(position,\n",
    "        train_data,\n",
    "        width,\n",
    "        alpha=1.0,\n",
    "        color='blue',\n",
    "        label=categories_train[0])\n",
    "\n",
    "# using a for loop to iterate over the position so that the dev and train data appear next to each other\n",
    "dev_bar=plt.bar([p + width for p in position],\n",
    "        dev_data,\n",
    "        width,\n",
    "        alpha=1.0,\n",
    "        color='r',\n",
    "        label=categories_dev[1])\n",
    "\n",
    "\n",
    "ax.set_title('Sentiment Class Distribution')\n",
    "\n",
    "\n",
    "ax.set_xticks([p + 0.5 * width for p in position])\n",
    "\n",
    "\n",
    "ax.set_xticklabels(categories_train)\n",
    "\n",
    "#inorder to get the text on the barchar i have used for loop which will iterate the train_bar variable\n",
    "for bar in train_bar:\n",
    "    yval = bar.get_height()\n",
    "    plt.text(bar.get_x() + bar.get_width()/1.5, yval + 0.05, yval, ha='center', va='bottom')\n",
    "\n",
    "for bar in dev_bar:\n",
    "    yval = bar.get_height()\n",
    "    plt.text(bar.get_x() + bar.get_width()/1.5, yval + 0.05, yval, ha='center', va='bottom')\n",
    "\n",
    "plt.legend(['train', 'dev'], loc='upper left')\n",
    "plt.show()"
   ]
  },
  {
   "cell_type": "markdown",
   "metadata": {
    "id": "9x4pZh13A_rK"
   },
   "source": [
    "## Sentiment Classification\n"
   ]
  },
  {
   "cell_type": "code",
   "execution_count": 13,
   "metadata": {
    "execution": {
     "iopub.execute_input": "2023-12-20T15:03:14.427966Z",
     "iopub.status.busy": "2023-12-20T15:03:14.427557Z",
     "iopub.status.idle": "2023-12-20T15:03:14.435925Z",
     "shell.execute_reply": "2023-12-20T15:03:14.434945Z",
     "shell.execute_reply.started": "2023-12-20T15:03:14.427930Z"
    },
    "id": "HXsaJC01qjdG"
   },
   "outputs": [],
   "source": [
    "Twitter_dataset_df_dev = Twitter_dataset_df_dev.dropna(subset=['text'])"
   ]
  },
  {
   "cell_type": "code",
   "execution_count": 14,
   "metadata": {
    "execution": {
     "iopub.execute_input": "2023-12-20T15:03:14.792846Z",
     "iopub.status.busy": "2023-12-20T15:03:14.792471Z",
     "iopub.status.idle": "2023-12-20T15:03:14.797130Z",
     "shell.execute_reply": "2023-12-20T15:03:14.796377Z",
     "shell.execute_reply.started": "2023-12-20T15:03:14.792813Z"
    },
    "id": "dYF0kiCfAe_W"
   },
   "outputs": [],
   "source": [
    "labels = {\n",
    "    0: \"positive\",\n",
    "    1: \"negative\",\n",
    "    2: \"neutral\"\n",
    "}"
   ]
  },
  {
   "cell_type": "markdown",
   "metadata": {
    "id": "Rz_O-2cxa7d5"
   },
   "source": [
    "Task 2A :- Pre-Processing and TF-IDF\n",
    "---\n",
    "\n",
    "\n",
    " **For pe-processing i have used the stopwords function to remove the stopwords\n",
    "and punctuations, i have also used TreebankWordTokenizer to create tokens and then reconstruct the sentense using TreebankWordDetokenizer. I have used TF-IDF inorder to get the input features for training and evalutaion.Also used label encoding to encode the sentiments.**"
   ]
  },
  {
   "cell_type": "code",
   "execution_count": 15,
   "metadata": {
    "execution": {
     "iopub.execute_input": "2023-12-20T15:03:15.550010Z",
     "iopub.status.busy": "2023-12-20T15:03:15.549602Z",
     "iopub.status.idle": "2023-12-20T15:03:15.558201Z",
     "shell.execute_reply": "2023-12-20T15:03:15.557462Z",
     "shell.execute_reply.started": "2023-12-20T15:03:15.549976Z"
    },
    "id": "9tuivP9XBQus"
   },
   "outputs": [],
   "source": [
    "punct_list = list(string.punctuation)\n",
    "english_stopwords = stopwords.words(\"english\")\n",
    "tokenizer = TreebankWordTokenizer()\n",
    "detokenizer = TreebankWordDetokenizer()\n",
    "def create_word_features(sentence):\n",
    "    text = re.sub('\\[.*?\\]', '', sentence)\n",
    "    text = re.sub('https?://\\S+|www\\.\\S+', '', sentence)\n",
    "    text = re.sub('<.*?>+', '', sentence)\n",
    "    text = re.sub('[%s]' % re.escape(string.punctuation), '', sentence)\n",
    "    text = re.sub('\\n', '', sentence)\n",
    "    text = re.sub('\\w*\\d\\w*', '', sentence)\n",
    "    words = tokenizer.tokenize(text.lower())\n",
    "\n",
    "    useful_words = [word for word in words if word not in english_stopwords and word not in punct_list]\n",
    "    return detokenizer.detokenize(useful_words)"
   ]
  },
  {
   "cell_type": "code",
   "execution_count": 16,
   "metadata": {
    "execution": {
     "iopub.execute_input": "2023-12-20T15:03:15.939970Z",
     "iopub.status.busy": "2023-12-20T15:03:15.939558Z",
     "iopub.status.idle": "2023-12-20T15:03:24.057139Z",
     "shell.execute_reply": "2023-12-20T15:03:24.056220Z",
     "shell.execute_reply.started": "2023-12-20T15:03:15.939928Z"
    },
    "id": "lLwdIvAh2xjc"
   },
   "outputs": [],
   "source": [
    "Twitter_dataset_df_train['text'] = Twitter_dataset_df_train['text'].apply(lambda x:create_word_features(x))\n",
    "Twitter_dataset_df_train['selected_text'] = Twitter_dataset_df_train['selected_text'].apply(lambda x:create_word_features(x))\n",
    "\n",
    "Twitter_dataset_df_dev['text'] = Twitter_dataset_df_dev['text'].apply(lambda x:create_word_features(x))\n",
    "\n",
    "Twitter_dataset_df_test['text'] = Twitter_dataset_df_test['text'].apply(lambda x:create_word_features(x))\n"
   ]
  },
  {
   "cell_type": "code",
   "execution_count": 17,
   "metadata": {
    "colab": {
     "base_uri": "https://localhost:8080/",
     "height": 206
    },
    "execution": {
     "iopub.execute_input": "2023-12-20T15:03:24.058965Z",
     "iopub.status.busy": "2023-12-20T15:03:24.058687Z",
     "iopub.status.idle": "2023-12-20T15:03:24.068607Z",
     "shell.execute_reply": "2023-12-20T15:03:24.067810Z",
     "shell.execute_reply.started": "2023-12-20T15:03:24.058937Z"
    },
    "id": "G5dJU-kz4J80",
    "outputId": "0e872b84-4801-4d80-c6f5-35a1b04891a3"
   },
   "outputs": [
    {
     "data": {
      "text/html": [
       "<div>\n",
       "<style scoped>\n",
       "    .dataframe tbody tr th:only-of-type {\n",
       "        vertical-align: middle;\n",
       "    }\n",
       "\n",
       "    .dataframe tbody tr th {\n",
       "        vertical-align: top;\n",
       "    }\n",
       "\n",
       "    .dataframe thead th {\n",
       "        text-align: right;\n",
       "    }\n",
       "</style>\n",
       "<table border=\"1\" class=\"dataframe\">\n",
       "  <thead>\n",
       "    <tr style=\"text-align: right;\">\n",
       "      <th></th>\n",
       "      <th>textID</th>\n",
       "      <th>text</th>\n",
       "      <th>selected_text</th>\n",
       "      <th>sentiment</th>\n",
       "    </tr>\n",
       "  </thead>\n",
       "  <tbody>\n",
       "    <tr>\n",
       "      <th>0</th>\n",
       "      <td>4921fcb7c4</td>\n",
       "      <td>absolutely gutted i`m going badu tonight. guys...</td>\n",
       "      <td>absolutely gutted i`m going badu tonight. guys...</td>\n",
       "      <td>negative</td>\n",
       "    </tr>\n",
       "    <tr>\n",
       "      <th>1</th>\n",
       "      <td>4137a2ac20</td>\n",
       "      <td>absolutely incredible. it`s official favorite ...</td>\n",
       "      <td>incredible</td>\n",
       "      <td>positive</td>\n",
       "    </tr>\n",
       "    <tr>\n",
       "      <th>2</th>\n",
       "      <td>511d2b0355</td>\n",
       "      <td>see</td>\n",
       "      <td>see</td>\n",
       "      <td>neutral</td>\n",
       "    </tr>\n",
       "    <tr>\n",
       "      <th>3</th>\n",
       "      <td>fbd2944d44</td>\n",
       "      <td>glad hear you`re okay. could really hurt sound...</td>\n",
       "      <td>glad hear you`re okay. could really hurt sound...</td>\n",
       "      <td>neutral</td>\n",
       "    </tr>\n",
       "    <tr>\n",
       "      <th>4</th>\n",
       "      <td>dd51596098</td>\n",
       "      <td>saw piece movie...loved</td>\n",
       "      <td>..loved</td>\n",
       "      <td>positive</td>\n",
       "    </tr>\n",
       "  </tbody>\n",
       "</table>\n",
       "</div>"
      ],
      "text/plain": [
       "       textID                                               text  \\\n",
       "0  4921fcb7c4  absolutely gutted i`m going badu tonight. guys...   \n",
       "1  4137a2ac20  absolutely incredible. it`s official favorite ...   \n",
       "2  511d2b0355                                                see   \n",
       "3  fbd2944d44  glad hear you`re okay. could really hurt sound...   \n",
       "4  dd51596098                            saw piece movie...loved   \n",
       "\n",
       "                                       selected_text sentiment  \n",
       "0  absolutely gutted i`m going badu tonight. guys...  negative  \n",
       "1                                         incredible  positive  \n",
       "2                                                see   neutral  \n",
       "3  glad hear you`re okay. could really hurt sound...   neutral  \n",
       "4                                            ..loved  positive  "
      ]
     },
     "execution_count": 17,
     "metadata": {},
     "output_type": "execute_result"
    }
   ],
   "source": [
    "Twitter_dataset_df_train.head()"
   ]
  },
  {
   "cell_type": "code",
   "execution_count": 18,
   "metadata": {
    "colab": {
     "base_uri": "https://localhost:8080/"
    },
    "execution": {
     "iopub.execute_input": "2023-12-20T15:03:24.070014Z",
     "iopub.status.busy": "2023-12-20T15:03:24.069735Z",
     "iopub.status.idle": "2023-12-20T15:03:24.085774Z",
     "shell.execute_reply": "2023-12-20T15:03:24.085061Z",
     "shell.execute_reply.started": "2023-12-20T15:03:24.069985Z"
    },
    "id": "GP50JDeoFY1P",
    "outputId": "48cee1ca-4a1d-425a-9b88-5ea956d748ce"
   },
   "outputs": [
    {
     "data": {
      "text/plain": [
       "sentiment\n",
       "neutral     8608\n",
       "positive    6644\n",
       "negative    6025\n",
       "Name: count, dtype: int64"
      ]
     },
     "execution_count": 18,
     "metadata": {},
     "output_type": "execute_result"
    }
   ],
   "source": [
    "Twitter_dataset_df_train['sentiment'].value_counts()"
   ]
  },
  {
   "cell_type": "code",
   "execution_count": 19,
   "metadata": {
    "colab": {
     "base_uri": "https://localhost:8080/"
    },
    "execution": {
     "iopub.execute_input": "2023-12-20T15:03:24.087757Z",
     "iopub.status.busy": "2023-12-20T15:03:24.087488Z",
     "iopub.status.idle": "2023-12-20T15:03:24.098148Z",
     "shell.execute_reply": "2023-12-20T15:03:24.097456Z",
     "shell.execute_reply.started": "2023-12-20T15:03:24.087729Z"
    },
    "id": "F8ec5GWTmHVS",
    "outputId": "b0c4bf27-41ae-49ba-d65d-61aa93e7daa9"
   },
   "outputs": [
    {
     "data": {
      "text/plain": [
       "sentiment\n",
       "neutral     452\n",
       "positive    350\n",
       "negative    317\n",
       "Name: count, dtype: int64"
      ]
     },
     "execution_count": 19,
     "metadata": {},
     "output_type": "execute_result"
    }
   ],
   "source": [
    "Twitter_dataset_df_dev['sentiment'].value_counts()"
   ]
  },
  {
   "cell_type": "markdown",
   "metadata": {
    "id": "vI9vzQGOJXn3"
   },
   "source": [
    "\n",
    "Task 2A Continued\n",
    "---\n",
    "\n",
    "\n",
    "In the below lines of code we are using TF-IDF inorder to conver the text data into vectorised format."
   ]
  },
  {
   "cell_type": "code",
   "execution_count": 20,
   "metadata": {
    "execution": {
     "iopub.execute_input": "2023-12-20T15:03:24.099473Z",
     "iopub.status.busy": "2023-12-20T15:03:24.099161Z",
     "iopub.status.idle": "2023-12-20T15:03:24.675594Z",
     "shell.execute_reply": "2023-12-20T15:03:24.674713Z",
     "shell.execute_reply.started": "2023-12-20T15:03:24.099426Z"
    },
    "id": "u8CHHQShJcp3"
   },
   "outputs": [],
   "source": [
    "## Extracting TF-IDF\n",
    "tfidf_vectorizer = TfidfVectorizer(stop_words='english',max_features=5000,ngram_range=(1,2))\n",
    "X_train_tfidf = tfidf_vectorizer.fit_transform(Twitter_dataset_df_train['text'])\n",
    "X_dev_tfidf = tfidf_vectorizer.transform(Twitter_dataset_df_dev['text'])\n",
    "\n",
    "#We will do label encoding to assign labels to the sentiment. Here negative=0, neutral=1 and positive=2\n",
    "\n",
    "label_encoder=LabelEncoder()\n",
    "train_labels=label_encoder.fit_transform(Twitter_dataset_df_train['sentiment'])\n",
    "dev_labels=label_encoder.fit_transform(Twitter_dataset_df_dev['sentiment'])"
   ]
  },
  {
   "cell_type": "code",
   "execution_count": 21,
   "metadata": {
    "colab": {
     "base_uri": "https://localhost:8080/",
     "height": 74
    },
    "execution": {
     "iopub.execute_input": "2023-12-20T15:03:24.676911Z",
     "iopub.status.busy": "2023-12-20T15:03:24.676645Z",
     "iopub.status.idle": "2023-12-20T15:04:40.263555Z",
     "shell.execute_reply": "2023-12-20T15:04:40.262717Z",
     "shell.execute_reply.started": "2023-12-20T15:03:24.676884Z"
    },
    "id": "A5pFgK5Im0M7",
    "outputId": "c7a5f644-460d-47e1-f35a-bc2485b4e588"
   },
   "outputs": [
    {
     "data": {
      "text/html": [
       "<style>#sk-container-id-1 {color: black;}#sk-container-id-1 pre{padding: 0;}#sk-container-id-1 div.sk-toggleable {background-color: white;}#sk-container-id-1 label.sk-toggleable__label {cursor: pointer;display: block;width: 100%;margin-bottom: 0;padding: 0.3em;box-sizing: border-box;text-align: center;}#sk-container-id-1 label.sk-toggleable__label-arrow:before {content: \"▸\";float: left;margin-right: 0.25em;color: #696969;}#sk-container-id-1 label.sk-toggleable__label-arrow:hover:before {color: black;}#sk-container-id-1 div.sk-estimator:hover label.sk-toggleable__label-arrow:before {color: black;}#sk-container-id-1 div.sk-toggleable__content {max-height: 0;max-width: 0;overflow: hidden;text-align: left;background-color: #f0f8ff;}#sk-container-id-1 div.sk-toggleable__content pre {margin: 0.2em;color: black;border-radius: 0.25em;background-color: #f0f8ff;}#sk-container-id-1 input.sk-toggleable__control:checked~div.sk-toggleable__content {max-height: 200px;max-width: 100%;overflow: auto;}#sk-container-id-1 input.sk-toggleable__control:checked~label.sk-toggleable__label-arrow:before {content: \"▾\";}#sk-container-id-1 div.sk-estimator input.sk-toggleable__control:checked~label.sk-toggleable__label {background-color: #d4ebff;}#sk-container-id-1 div.sk-label input.sk-toggleable__control:checked~label.sk-toggleable__label {background-color: #d4ebff;}#sk-container-id-1 input.sk-hidden--visually {border: 0;clip: rect(1px 1px 1px 1px);clip: rect(1px, 1px, 1px, 1px);height: 1px;margin: -1px;overflow: hidden;padding: 0;position: absolute;width: 1px;}#sk-container-id-1 div.sk-estimator {font-family: monospace;background-color: #f0f8ff;border: 1px dotted black;border-radius: 0.25em;box-sizing: border-box;margin-bottom: 0.5em;}#sk-container-id-1 div.sk-estimator:hover {background-color: #d4ebff;}#sk-container-id-1 div.sk-parallel-item::after {content: \"\";width: 100%;border-bottom: 1px solid gray;flex-grow: 1;}#sk-container-id-1 div.sk-label:hover label.sk-toggleable__label {background-color: #d4ebff;}#sk-container-id-1 div.sk-serial::before {content: \"\";position: absolute;border-left: 1px solid gray;box-sizing: border-box;top: 0;bottom: 0;left: 50%;z-index: 0;}#sk-container-id-1 div.sk-serial {display: flex;flex-direction: column;align-items: center;background-color: white;padding-right: 0.2em;padding-left: 0.2em;position: relative;}#sk-container-id-1 div.sk-item {position: relative;z-index: 1;}#sk-container-id-1 div.sk-parallel {display: flex;align-items: stretch;justify-content: center;background-color: white;position: relative;}#sk-container-id-1 div.sk-item::before, #sk-container-id-1 div.sk-parallel-item::before {content: \"\";position: absolute;border-left: 1px solid gray;box-sizing: border-box;top: 0;bottom: 0;left: 50%;z-index: -1;}#sk-container-id-1 div.sk-parallel-item {display: flex;flex-direction: column;z-index: 1;position: relative;background-color: white;}#sk-container-id-1 div.sk-parallel-item:first-child::after {align-self: flex-end;width: 50%;}#sk-container-id-1 div.sk-parallel-item:last-child::after {align-self: flex-start;width: 50%;}#sk-container-id-1 div.sk-parallel-item:only-child::after {width: 0;}#sk-container-id-1 div.sk-dashed-wrapped {border: 1px dashed gray;margin: 0 0.4em 0.5em 0.4em;box-sizing: border-box;padding-bottom: 0.4em;background-color: white;}#sk-container-id-1 div.sk-label label {font-family: monospace;font-weight: bold;display: inline-block;line-height: 1.2em;}#sk-container-id-1 div.sk-label-container {text-align: center;}#sk-container-id-1 div.sk-container {/* jupyter's `normalize.less` sets `[hidden] { display: none; }` but bootstrap.min.css set `[hidden] { display: none !important; }` so we also need the `!important` here to be able to override the default hidden behavior on the sphinx rendered scikit-learn.org. See: https://github.com/scikit-learn/scikit-learn/issues/21755 */display: inline-block !important;position: relative;}#sk-container-id-1 div.sk-text-repr-fallback {display: none;}</style><div id=\"sk-container-id-1\" class=\"sk-top-container\"><div class=\"sk-text-repr-fallback\"><pre>SVC()</pre><b>In a Jupyter environment, please rerun this cell to show the HTML representation or trust the notebook. <br />On GitHub, the HTML representation is unable to render, please try loading this page with nbviewer.org.</b></div><div class=\"sk-container\" hidden><div class=\"sk-item\"><div class=\"sk-estimator sk-toggleable\"><input class=\"sk-toggleable__control sk-hidden--visually\" id=\"sk-estimator-id-1\" type=\"checkbox\" checked><label for=\"sk-estimator-id-1\" class=\"sk-toggleable__label sk-toggleable__label-arrow\">SVC</label><div class=\"sk-toggleable__content\"><pre>SVC()</pre></div></div></div></div></div>"
      ],
      "text/plain": [
       "SVC()"
      ]
     },
     "execution_count": 21,
     "metadata": {},
     "output_type": "execute_result"
    }
   ],
   "source": [
    "#SVM model training\n",
    "SVM_Classifier=SVC()\n",
    "SVM_Classifier.fit(X_train_tfidf,train_labels)"
   ]
  },
  {
   "cell_type": "markdown",
   "metadata": {
    "id": "Xm8KftbRft7R"
   },
   "source": [
    "**Task 2B**:- Precision,recall and F1 Scores are used to evaluate the performance of the model along with this micro average score to check the average performance of the model separately for all the classes. I have used the 'classification_report' function which gives us the classification report for the model, it gives the summary for the multi class classification problem."
   ]
  },
  {
   "cell_type": "code",
   "execution_count": 22,
   "metadata": {
    "colab": {
     "base_uri": "https://localhost:8080/"
    },
    "execution": {
     "iopub.execute_input": "2023-12-20T15:04:40.264937Z",
     "iopub.status.busy": "2023-12-20T15:04:40.264673Z",
     "iopub.status.idle": "2023-12-20T15:04:41.570896Z",
     "shell.execute_reply": "2023-12-20T15:04:41.569964Z",
     "shell.execute_reply.started": "2023-12-20T15:04:40.264911Z"
    },
    "id": "8bz7pOY2ndgo",
    "outputId": "096bebc9-fa9a-4331-89cd-4b3d68b223ef"
   },
   "outputs": [
    {
     "name": "stdout",
     "output_type": "stream",
     "text": [
      "              precision    recall  f1-score   support\n",
      "\n",
      "           0       0.73      0.52      0.61       317\n",
      "           1       0.60      0.77      0.68       452\n",
      "           2       0.74      0.66      0.70       350\n",
      "\n",
      "    accuracy                           0.67      1119\n",
      "   macro avg       0.69      0.65      0.66      1119\n",
      "weighted avg       0.68      0.67      0.67      1119\n",
      "\n"
     ]
    }
   ],
   "source": [
    "dev_pred=SVM_Classifier.predict(X_dev_tfidf)\n",
    "\n",
    "report=classification_report(dev_labels,dev_pred)\n",
    "print(report)"
   ]
  },
  {
   "cell_type": "markdown",
   "metadata": {
    "id": "iPkFIM0RnU45"
   },
   "source": [
    "**Task 2C**:- Here i have used random forest as an alternative methodology because RF is a Ensemble Learning technique that builds multiple decision trees and combines their outputs. I have also implemented hyper parameter tuning to improve the performance of the RF algorithm. After comparing with the SVM it can be seen that RF performs better than SVM in all three of the evaluation metrices with Tf-IDF apprach. The accuracy improved from 67% to 68%. We get a better feature set with syntactic and semantic analysis by combining RF and Tf-IDF."
   ]
  },
  {
   "cell_type": "code",
   "execution_count": 23,
   "metadata": {
    "colab": {
     "base_uri": "https://localhost:8080/"
    },
    "execution": {
     "iopub.execute_input": "2023-12-20T15:04:41.573085Z",
     "iopub.status.busy": "2023-12-20T15:04:41.572781Z",
     "iopub.status.idle": "2023-12-20T15:15:28.575989Z",
     "shell.execute_reply": "2023-12-20T15:15:28.574806Z",
     "shell.execute_reply.started": "2023-12-20T15:04:41.573055Z"
    },
    "id": "ZmUa1IBaiWix",
    "outputId": "ea4e7165-dcbd-4d89-b840-951297330636"
   },
   "outputs": [
    {
     "name": "stdout",
     "output_type": "stream",
     "text": [
      "Fitting 23 folds for each of 100 candidates, totalling 2300 fits\n",
      "Best Parameters: {'n_estimators': 200, 'min_samples_split': 15, 'min_samples_leaf': 1, 'max_depth': 800}\n",
      "              precision    recall  f1-score   support\n",
      "\n",
      "           0       0.73      0.58      0.65       317\n",
      "           1       0.65      0.73      0.69       452\n",
      "           2       0.71      0.74      0.72       350\n",
      "\n",
      "    accuracy                           0.69      1119\n",
      "   macro avg       0.70      0.68      0.69      1119\n",
      "weighted avg       0.69      0.69      0.69      1119\n",
      "\n"
     ]
    }
   ],
   "source": [
    "# Define the parameter grid\n",
    "param_dist = {\n",
    "  'n_estimators': [50, 200,800],\n",
    "    'max_depth': [10, 20,30,60,800],\n",
    "    'min_samples_split': [2, 5, 7,15],\n",
    "    'min_samples_leaf': [1, 2, 4,6]\n",
    "}\n",
    "\n",
    "\n",
    "RF_classifier = RandomForestClassifier()\n",
    "\n",
    "\n",
    "random_search = RandomizedSearchCV(estimator=RF_classifier, param_distributions=param_dist,\n",
    "                                   n_iter=100, cv=23, verbose=1, n_jobs=-1)\n",
    "\n",
    "\n",
    "\n",
    "# Training Random Forest with TFIDF features\n",
    "\n",
    "random_search.fit(X_train_tfidf, train_labels)\n",
    "print(\"Best Parameters:\", random_search.best_params_)\n",
    "best_rf = random_search.best_estimator_\n",
    "\n",
    "\n",
    "\n",
    "# evaluation\n",
    "preds = best_rf.predict(X_dev_tfidf)\n",
    "report=classification_report(dev_labels,preds)\n",
    "print(report)"
   ]
  },
  {
   "cell_type": "code",
   "execution_count": 26,
   "metadata": {
    "execution": {
     "iopub.execute_input": "2023-12-20T15:19:03.270565Z",
     "iopub.status.busy": "2023-12-20T15:19:03.270142Z",
     "iopub.status.idle": "2023-12-20T15:19:04.793995Z",
     "shell.execute_reply": "2023-12-20T15:19:04.793203Z",
     "shell.execute_reply.started": "2023-12-20T15:19:03.270530Z"
    },
    "id": "FHGi8sokYhap"
   },
   "outputs": [],
   "source": [
    "X_test_tfidf=tfidf_vectorizer.transform(Twitter_dataset_df_test['text'])\n",
    "test_pred_RF=best_rf.predict(X_test_tfidf)\n",
    "Twitter_dataset_df_test['predicted_sentiment']=label_encoder.inverse_transform(test_pred_RF)"
   ]
  },
  {
   "cell_type": "markdown",
   "metadata": {
    "id": "vG7Ppx-LoMs8"
   },
   "source": [
    "**Task 2D**:- Generating the kaggle csv file"
   ]
  },
  {
   "cell_type": "code",
   "execution_count": 27,
   "metadata": {
    "execution": {
     "iopub.execute_input": "2023-12-20T15:19:12.295649Z",
     "iopub.status.busy": "2023-12-20T15:19:12.295273Z",
     "iopub.status.idle": "2023-12-20T15:19:12.308448Z",
     "shell.execute_reply": "2023-12-20T15:19:12.307703Z",
     "shell.execute_reply.started": "2023-12-20T15:19:12.295619Z"
    },
    "id": "lzayBGUPQR3S"
   },
   "outputs": [],
   "source": [
    "submission_df=pd.DataFrame({\n",
    "    'textID':Twitter_dataset_df_test['textID'],\n",
    "    'sentiment':label_encoder.inverse_transform(test_pred_RF)\n",
    "})\n",
    "submission_df.to_csv('23100637_Sahil_Chitnis.csv',index=False)"
   ]
  },
  {
   "cell_type": "code",
   "execution_count": null,
   "metadata": {
    "id": "Fy6qqAHTxh9g"
   },
   "outputs": [],
   "source": []
  },
  {
   "cell_type": "markdown",
   "metadata": {},
   "source": [
    "**3. Span Extraction**\n",
    "**Task 3a:-**\n",
    "1) Describe in no more than 200 words a system that could be used to identify the sentiment span. You should consider the methodology potentially including how features are extracted, what models could be used and what procedures should be used to train the model.                                            \n",
    "***Answer***:- \n",
    "\n",
    "The following would be the new improved approach to focus on the sentiment span extraction:\n",
    "* **Pre-Processing**:\n",
    "\n",
    "* **NER and POS Tagging**:- Identifying the names and entities along with the Parts of Speech can be used to identify the sentiment span. Tokenization can also be carried out in the preprocessing step\n",
    "\n",
    "* **Feature extraction**:\n",
    "\tFor feature extraction we can use wordembedding such as word2vec or GloVe.\n",
    "\n",
    "* **Model Selection**:\n",
    "\tBidirectional LSTM's can learn contextual information for sentiment analysis which can provide better results than random forest and SVM.\n",
    "\n",
    "* **Training**:\n",
    "\tFor the training purpose we can use labeled dataset where sentiment spans are given(Similar to the given dataset for the assignment),train validation split can also be used. We can then tune the model using \n",
    "\tgrid search cv or randomized search cv. \n",
    "\n",
    "* **Evaluation**:-\n",
    "\tDifferent methods such as precision, recall, F1-Score can be used to evaluate the model's performance. We can also implement cross validation to assess the models general performance on the overall dataset.\n",
    "    \n",
    "    \n",
    "    \n",
    "2) Implement this system and apply it to the train and development splits of the dataset.\n",
    "\n",
    "**Task 3b**\n",
    "\n",
    "1) Describe an automatic metric that can be used to evaluate the task of span extraction. Implement this metric and use it to evaluate the performance of the system you developed in Task 3a."
   ]
  },
  {
   "cell_type": "code",
   "execution_count": null,
   "metadata": {},
   "outputs": [],
   "source": []
  }
 ],
 "metadata": {
  "accelerator": "TPU",
  "colab": {
   "provenance": []
  },
  "kaggle": {
   "accelerator": "tpu1vmV38",
   "dataSources": [
    {
     "datasetId": 4178105,
     "sourceId": 7218948,
     "sourceType": "datasetVersion"
    }
   ],
   "dockerImageVersionId": 30628,
   "isGpuEnabled": false,
   "isInternetEnabled": true,
   "language": "python",
   "sourceType": "notebook"
  },
  "kernelspec": {
   "display_name": "Python 3 (ipykernel)",
   "language": "python",
   "name": "python3"
  },
  "language_info": {
   "codemirror_mode": {
    "name": "ipython",
    "version": 3
   },
   "file_extension": ".py",
   "mimetype": "text/x-python",
   "name": "python",
   "nbconvert_exporter": "python",
   "pygments_lexer": "ipython3",
   "version": "3.11.4"
  }
 },
 "nbformat": 4,
 "nbformat_minor": 4
}
